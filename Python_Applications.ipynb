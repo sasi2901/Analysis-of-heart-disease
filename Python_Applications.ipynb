{
  "nbformat": 4,
  "nbformat_minor": 0,
  "metadata": {
    "colab": {
      "provenance": []
    },
    "kernelspec": {
      "name": "python3",
      "display_name": "Python 3"
    },
    "language_info": {
      "name": "python"
    }
  },
  "cells": [
    {
      "cell_type": "markdown",
      "source": [
        "Band Name Generator"
      ],
      "metadata": {
        "id": "atu0MMxc8jKo"
      }
    },
    {
      "cell_type": "code",
      "execution_count": 1,
      "metadata": {
        "colab": {
          "base_uri": "https://localhost:8080/"
        },
        "id": "jM4hgQWe8FtY",
        "outputId": "3aff6ff1-5335-494e-f1f3-c4d881c8b750"
      },
      "outputs": [
        {
          "output_type": "stream",
          "name": "stdout",
          "text": [
            "    August 2021\n",
            "Mo Tu We Th Fr Sa Su\n",
            "                   1\n",
            " 2  3  4  5  6  7  8\n",
            " 9 10 11 12 13 14 15\n",
            "16 17 18 19 20 21 22\n",
            "23 24 25 26 27 28 29\n",
            "30 31\n",
            "\n"
          ]
        }
      ],
      "source": [
        "import calendar as cld\n",
        "print(cld.month(2021,8))"
      ]
    },
    {
      "cell_type": "code",
      "source": [
        "import calendar as cld\n",
        "print(cld.calendar(2022))"
      ],
      "metadata": {
        "id": "nnUAXhFu8mye",
        "colab": {
          "base_uri": "https://localhost:8080/"
        },
        "outputId": "60dac3df-98a8-4b68-dd8c-022d685bc0cf"
      },
      "execution_count": 2,
      "outputs": [
        {
          "output_type": "stream",
          "name": "stdout",
          "text": [
            "                                  2022\n",
            "\n",
            "      January                   February                   March\n",
            "Mo Tu We Th Fr Sa Su      Mo Tu We Th Fr Sa Su      Mo Tu We Th Fr Sa Su\n",
            "                1  2          1  2  3  4  5  6          1  2  3  4  5  6\n",
            " 3  4  5  6  7  8  9       7  8  9 10 11 12 13       7  8  9 10 11 12 13\n",
            "10 11 12 13 14 15 16      14 15 16 17 18 19 20      14 15 16 17 18 19 20\n",
            "17 18 19 20 21 22 23      21 22 23 24 25 26 27      21 22 23 24 25 26 27\n",
            "24 25 26 27 28 29 30      28                        28 29 30 31\n",
            "31\n",
            "\n",
            "       April                      May                       June\n",
            "Mo Tu We Th Fr Sa Su      Mo Tu We Th Fr Sa Su      Mo Tu We Th Fr Sa Su\n",
            "             1  2  3                         1             1  2  3  4  5\n",
            " 4  5  6  7  8  9 10       2  3  4  5  6  7  8       6  7  8  9 10 11 12\n",
            "11 12 13 14 15 16 17       9 10 11 12 13 14 15      13 14 15 16 17 18 19\n",
            "18 19 20 21 22 23 24      16 17 18 19 20 21 22      20 21 22 23 24 25 26\n",
            "25 26 27 28 29 30         23 24 25 26 27 28 29      27 28 29 30\n",
            "                          30 31\n",
            "\n",
            "        July                     August                  September\n",
            "Mo Tu We Th Fr Sa Su      Mo Tu We Th Fr Sa Su      Mo Tu We Th Fr Sa Su\n",
            "             1  2  3       1  2  3  4  5  6  7                1  2  3  4\n",
            " 4  5  6  7  8  9 10       8  9 10 11 12 13 14       5  6  7  8  9 10 11\n",
            "11 12 13 14 15 16 17      15 16 17 18 19 20 21      12 13 14 15 16 17 18\n",
            "18 19 20 21 22 23 24      22 23 24 25 26 27 28      19 20 21 22 23 24 25\n",
            "25 26 27 28 29 30 31      29 30 31                  26 27 28 29 30\n",
            "\n",
            "      October                   November                  December\n",
            "Mo Tu We Th Fr Sa Su      Mo Tu We Th Fr Sa Su      Mo Tu We Th Fr Sa Su\n",
            "                1  2          1  2  3  4  5  6                1  2  3  4\n",
            " 3  4  5  6  7  8  9       7  8  9 10 11 12 13       5  6  7  8  9 10 11\n",
            "10 11 12 13 14 15 16      14 15 16 17 18 19 20      12 13 14 15 16 17 18\n",
            "17 18 19 20 21 22 23      21 22 23 24 25 26 27      19 20 21 22 23 24 25\n",
            "24 25 26 27 28 29 30      28 29 30                  26 27 28 29 30 31\n",
            "31\n",
            "\n"
          ]
        }
      ]
    },
    {
      "cell_type": "markdown",
      "source": [
        "**PATTERNS**"
      ],
      "metadata": {
        "id": "s-LW9dRvVFuW"
      }
    },
    {
      "cell_type": "code",
      "source": [
        "n=int(input(\"Enter no of rows:\"))\n",
        "for i in range(n):\n",
        "    for j in range(i+1):\n",
        "          print(\"*\",end=\" \")\n",
        "    print()"
      ],
      "metadata": {
        "colab": {
          "base_uri": "https://localhost:8080/"
        },
        "id": "Bye47QOvUUd-",
        "outputId": "73d5bad7-a972-4835-dc6b-8ef8e72d902b"
      },
      "execution_count": 9,
      "outputs": [
        {
          "output_type": "stream",
          "name": "stdout",
          "text": [
            "Enter no of rows:6\n",
            "* \n",
            "* * \n",
            "* * * \n",
            "* * * * \n",
            "* * * * * \n",
            "* * * * * * \n"
          ]
        }
      ]
    },
    {
      "cell_type": "code",
      "source": [
        "n=int(input(\"Enter no of rows:\"))\n",
        "for i in range(n,0,-1):\n",
        "    for j in range(i,0,-1):\n",
        "          print(\"*\",end=\" \")\n",
        "    print()"
      ],
      "metadata": {
        "colab": {
          "base_uri": "https://localhost:8080/"
        },
        "id": "ikier_0eVM0d",
        "outputId": "2dc8c0af-14f1-4632-89d9-524c0e24238b"
      },
      "execution_count": 10,
      "outputs": [
        {
          "output_type": "stream",
          "name": "stdout",
          "text": [
            "Enter no of rows:6\n",
            "* * * * * * \n",
            "* * * * * \n",
            "* * * * \n",
            "* * * \n",
            "* * \n",
            "* \n"
          ]
        }
      ]
    },
    {
      "cell_type": "code",
      "source": [
        "x=int(input(\"Enter from the user:\"))\n",
        "for i in range(x):\n",
        "    for j in range(i):\n",
        "        print(i,end=\" \")\n",
        "    print()"
      ],
      "metadata": {
        "colab": {
          "base_uri": "https://localhost:8080/"
        },
        "id": "pyp3s97JVTGF",
        "outputId": "be9c421d-8c53-4b9c-9433-3cf0a6822f32"
      },
      "execution_count": 11,
      "outputs": [
        {
          "output_type": "stream",
          "name": "stdout",
          "text": [
            "Enter from the user:6\n",
            "\n",
            "1 \n",
            "2 2 \n",
            "3 3 3 \n",
            "4 4 4 4 \n",
            "5 5 5 5 5 \n"
          ]
        }
      ]
    },
    {
      "cell_type": "code",
      "source": [
        "x=int(input(\"Enter from the user:\"))\n",
        "for i in range(x,0,-1):\n",
        "    for j in range(i,0,-1):\n",
        "        print(i,end=\" \")\n",
        "    print()"
      ],
      "metadata": {
        "colab": {
          "base_uri": "https://localhost:8080/"
        },
        "id": "HhriydStVig5",
        "outputId": "20ec102c-c5ae-4c9c-d69f-c59e88d49b73"
      },
      "execution_count": 12,
      "outputs": [
        {
          "output_type": "stream",
          "name": "stdout",
          "text": [
            "Enter from the user:6\n",
            "6 6 6 6 6 6 \n",
            "5 5 5 5 5 \n",
            "4 4 4 4 \n",
            "3 3 3 \n",
            "2 2 \n",
            "1 \n"
          ]
        }
      ]
    },
    {
      "cell_type": "code",
      "source": [
        "n=int(input(\"Enter from the user:\"))\n",
        "for i in range(n+1):\n",
        "    for j in range(1,i+1):\n",
        "        print(j,end=\" \")\n",
        "    print()"
      ],
      "metadata": {
        "colab": {
          "base_uri": "https://localhost:8080/"
        },
        "id": "EPUml5ITVnZs",
        "outputId": "e6c87978-2412-4110-cb7a-8c5c0def138e"
      },
      "execution_count": 13,
      "outputs": [
        {
          "output_type": "stream",
          "name": "stdout",
          "text": [
            "Enter from the user:6\n",
            "\n",
            "1 \n",
            "1 2 \n",
            "1 2 3 \n",
            "1 2 3 4 \n",
            "1 2 3 4 5 \n",
            "1 2 3 4 5 6 \n"
          ]
        }
      ]
    },
    {
      "cell_type": "code",
      "source": [
        "n=int(input(\"Enter from the user:\"))\n",
        "for i in range(n,0,-1):\n",
        "    for j in range(1,i+1):\n",
        "        print(j,end=\" \")\n",
        "    print()"
      ],
      "metadata": {
        "colab": {
          "base_uri": "https://localhost:8080/"
        },
        "id": "ReepV-QcVq7B",
        "outputId": "895a17e9-3f95-4a38-d474-30c4eb6aa3d3"
      },
      "execution_count": 14,
      "outputs": [
        {
          "output_type": "stream",
          "name": "stdout",
          "text": [
            "Enter from the user:6\n",
            "1 2 3 4 5 6 \n",
            "1 2 3 4 5 \n",
            "1 2 3 4 \n",
            "1 2 3 \n",
            "1 2 \n",
            "1 \n"
          ]
        }
      ]
    },
    {
      "cell_type": "code",
      "source": [
        "n=int(input(\"enter from the user:\"))\n",
        "for i in range(n):\n",
        "    for j in range(i,0,-1):\n",
        "        print(j, end=\" \")\n",
        "    print()"
      ],
      "metadata": {
        "colab": {
          "base_uri": "https://localhost:8080/"
        },
        "id": "9GFaUOohVw1F",
        "outputId": "76171db0-717f-448e-93b2-ba0ca1802fa8"
      },
      "execution_count": 15,
      "outputs": [
        {
          "output_type": "stream",
          "name": "stdout",
          "text": [
            "enter from the user:6\n",
            "\n",
            "1 \n",
            "2 1 \n",
            "3 2 1 \n",
            "4 3 2 1 \n",
            "5 4 3 2 1 \n"
          ]
        }
      ]
    },
    {
      "cell_type": "code",
      "source": [
        "n=int(input(\"enter from the user:\"))\n",
        "for i in range(n,0,-1):\n",
        "    for j in range(i,0,-1):\n",
        "        print(j, end=\" \")\n",
        "    print()"
      ],
      "metadata": {
        "colab": {
          "base_uri": "https://localhost:8080/"
        },
        "id": "Lw9DiolJV0Im",
        "outputId": "4f339f86-48f1-41f2-c17f-194a3402b4ba"
      },
      "execution_count": 16,
      "outputs": [
        {
          "output_type": "stream",
          "name": "stdout",
          "text": [
            "enter from the user:6\n",
            "6 5 4 3 2 1 \n",
            "5 4 3 2 1 \n",
            "4 3 2 1 \n",
            "3 2 1 \n",
            "2 1 \n",
            "1 \n"
          ]
        }
      ]
    },
    {
      "cell_type": "code",
      "source": [
        "for i in range(1,6):\n",
        "    for j in range(1,i+1):\n",
        "        print(j,end=\" \")\n",
        "    for k in range(j-1,0,-1):\n",
        "        print(k,end=\" \")\n",
        "    print()"
      ],
      "metadata": {
        "colab": {
          "base_uri": "https://localhost:8080/"
        },
        "id": "rsPBubb5V28k",
        "outputId": "b96d29f9-e969-46c2-e9d3-d0be8766444e"
      },
      "execution_count": 17,
      "outputs": [
        {
          "output_type": "stream",
          "name": "stdout",
          "text": [
            "1 \n",
            "1 2 1 \n",
            "1 2 3 2 1 \n",
            "1 2 3 4 3 2 1 \n",
            "1 2 3 4 5 4 3 2 1 \n"
          ]
        }
      ]
    },
    {
      "cell_type": "code",
      "source": [
        "number=1\n",
        "col=1\n",
        "for i in range(1,6):\n",
        "    for j in range(1,col+1):\n",
        "        print(number,end=\" \")\n",
        "        number+=1\n",
        "    col+=2\n",
        "    print()"
      ],
      "metadata": {
        "colab": {
          "base_uri": "https://localhost:8080/"
        },
        "id": "Zx7EEs8ZV5ul",
        "outputId": "3bb69701-6cdd-4e92-d4fb-966cf9f3e997"
      },
      "execution_count": 18,
      "outputs": [
        {
          "output_type": "stream",
          "name": "stdout",
          "text": [
            "1 \n",
            "2 3 4 \n",
            "5 6 7 8 9 \n",
            "10 11 12 13 14 15 16 \n",
            "17 18 19 20 21 22 23 24 25 \n"
          ]
        }
      ]
    },
    {
      "cell_type": "code",
      "source": [
        "for i in range(1,6):\n",
        "    for j in range(5,i,-1):\n",
        "        print(\" \",end=\" \")\n",
        "    for k in range(1,i+1):\n",
        "        print(\"*\",end=\" \")\n",
        "    print( )"
      ],
      "metadata": {
        "colab": {
          "base_uri": "https://localhost:8080/"
        },
        "id": "C5ENygJNV9L2",
        "outputId": "74f886dd-369d-4160-bbfb-4a953973a7dd"
      },
      "execution_count": 19,
      "outputs": [
        {
          "output_type": "stream",
          "name": "stdout",
          "text": [
            "        * \n",
            "      * * \n",
            "    * * * \n",
            "  * * * * \n",
            "* * * * * \n"
          ]
        }
      ]
    },
    {
      "cell_type": "code",
      "source": [
        "for i in range(5,0,-1):\n",
        "    for j in range(5,i,-1):\n",
        "        print(\" \",end=\" \")\n",
        "    for k in range(1,i+1):\n",
        "        print(\"*\",end=\" \")\n",
        "    print( )"
      ],
      "metadata": {
        "colab": {
          "base_uri": "https://localhost:8080/"
        },
        "id": "TH01HmOWV_yr",
        "outputId": "9a3a2ebb-f50d-488f-c33a-9d49352a1927"
      },
      "execution_count": 20,
      "outputs": [
        {
          "output_type": "stream",
          "name": "stdout",
          "text": [
            "* * * * * \n",
            "  * * * * \n",
            "    * * * \n",
            "      * * \n",
            "        * \n"
          ]
        }
      ]
    },
    {
      "cell_type": "markdown",
      "source": [
        "**MAPPING**"
      ],
      "metadata": {
        "id": "reNS-VxAWBR6"
      }
    },
    {
      "cell_type": "code",
      "source": [
        "import folium as fo\n",
        "map=fo.Map()\n",
        "map"
      ],
      "metadata": {
        "colab": {
          "base_uri": "https://localhost:8080/",
          "height": 712
        },
        "id": "HXDeD4nLWEr3",
        "outputId": "4e0adf42-b21d-4037-82d1-134a17bcc54e"
      },
      "execution_count": 21,
      "outputs": [
        {
          "output_type": "execute_result",
          "data": {
            "text/plain": [
              "<folium.folium.Map at 0x7f503fe35df0>"
            ],
            "text/html": [
              "<div style=\"width:100%;\"><div style=\"position:relative;width:100%;height:0;padding-bottom:60%;\"><span style=\"color:#565656\">Make this Notebook Trusted to load map: File -> Trust Notebook</span><iframe srcdoc=\"&lt;!DOCTYPE html&gt;\n",
              "&lt;html&gt;\n",
              "&lt;head&gt;\n",
              "    \n",
              "    &lt;meta http-equiv=&quot;content-type&quot; content=&quot;text/html; charset=UTF-8&quot; /&gt;\n",
              "    \n",
              "        &lt;script&gt;\n",
              "            L_NO_TOUCH = false;\n",
              "            L_DISABLE_3D = false;\n",
              "        &lt;/script&gt;\n",
              "    \n",
              "    &lt;style&gt;html, body {width: 100%;height: 100%;margin: 0;padding: 0;}&lt;/style&gt;\n",
              "    &lt;style&gt;#map {position:absolute;top:0;bottom:0;right:0;left:0;}&lt;/style&gt;\n",
              "    &lt;script src=&quot;https://cdn.jsdelivr.net/npm/leaflet@1.6.0/dist/leaflet.js&quot;&gt;&lt;/script&gt;\n",
              "    &lt;script src=&quot;https://code.jquery.com/jquery-1.12.4.min.js&quot;&gt;&lt;/script&gt;\n",
              "    &lt;script src=&quot;https://maxcdn.bootstrapcdn.com/bootstrap/3.2.0/js/bootstrap.min.js&quot;&gt;&lt;/script&gt;\n",
              "    &lt;script src=&quot;https://cdnjs.cloudflare.com/ajax/libs/Leaflet.awesome-markers/2.0.2/leaflet.awesome-markers.js&quot;&gt;&lt;/script&gt;\n",
              "    &lt;link rel=&quot;stylesheet&quot; href=&quot;https://cdn.jsdelivr.net/npm/leaflet@1.6.0/dist/leaflet.css&quot;/&gt;\n",
              "    &lt;link rel=&quot;stylesheet&quot; href=&quot;https://maxcdn.bootstrapcdn.com/bootstrap/3.2.0/css/bootstrap.min.css&quot;/&gt;\n",
              "    &lt;link rel=&quot;stylesheet&quot; href=&quot;https://maxcdn.bootstrapcdn.com/bootstrap/3.2.0/css/bootstrap-theme.min.css&quot;/&gt;\n",
              "    &lt;link rel=&quot;stylesheet&quot; href=&quot;https://maxcdn.bootstrapcdn.com/font-awesome/4.6.3/css/font-awesome.min.css&quot;/&gt;\n",
              "    &lt;link rel=&quot;stylesheet&quot; href=&quot;https://cdnjs.cloudflare.com/ajax/libs/Leaflet.awesome-markers/2.0.2/leaflet.awesome-markers.css&quot;/&gt;\n",
              "    &lt;link rel=&quot;stylesheet&quot; href=&quot;https://cdn.jsdelivr.net/gh/python-visualization/folium/folium/templates/leaflet.awesome.rotate.min.css&quot;/&gt;\n",
              "    \n",
              "            &lt;meta name=&quot;viewport&quot; content=&quot;width=device-width,\n",
              "                initial-scale=1.0, maximum-scale=1.0, user-scalable=no&quot; /&gt;\n",
              "            &lt;style&gt;\n",
              "                #map_1f99c27f8cec7c996d196973ca0355ce {\n",
              "                    position: relative;\n",
              "                    width: 100.0%;\n",
              "                    height: 100.0%;\n",
              "                    left: 0.0%;\n",
              "                    top: 0.0%;\n",
              "                }\n",
              "            &lt;/style&gt;\n",
              "        \n",
              "&lt;/head&gt;\n",
              "&lt;body&gt;\n",
              "    \n",
              "    \n",
              "            &lt;div class=&quot;folium-map&quot; id=&quot;map_1f99c27f8cec7c996d196973ca0355ce&quot; &gt;&lt;/div&gt;\n",
              "        \n",
              "&lt;/body&gt;\n",
              "&lt;script&gt;\n",
              "    \n",
              "    \n",
              "            var map_1f99c27f8cec7c996d196973ca0355ce = L.map(\n",
              "                &quot;map_1f99c27f8cec7c996d196973ca0355ce&quot;,\n",
              "                {\n",
              "                    center: [0, 0],\n",
              "                    crs: L.CRS.EPSG3857,\n",
              "                    zoom: 1,\n",
              "                    zoomControl: true,\n",
              "                    preferCanvas: false,\n",
              "                }\n",
              "            );\n",
              "\n",
              "            \n",
              "\n",
              "        \n",
              "    \n",
              "            var tile_layer_08080e6db8415d6b90e259ea6294889d = L.tileLayer(\n",
              "                &quot;https://{s}.tile.openstreetmap.org/{z}/{x}/{y}.png&quot;,\n",
              "                {&quot;attribution&quot;: &quot;Data by \\u0026copy; \\u003ca href=\\&quot;http://openstreetmap.org\\&quot;\\u003eOpenStreetMap\\u003c/a\\u003e, under \\u003ca href=\\&quot;http://www.openstreetmap.org/copyright\\&quot;\\u003eODbL\\u003c/a\\u003e.&quot;, &quot;detectRetina&quot;: false, &quot;maxNativeZoom&quot;: 18, &quot;maxZoom&quot;: 18, &quot;minZoom&quot;: 0, &quot;noWrap&quot;: false, &quot;opacity&quot;: 1, &quot;subdomains&quot;: &quot;abc&quot;, &quot;tms&quot;: false}\n",
              "            ).addTo(map_1f99c27f8cec7c996d196973ca0355ce);\n",
              "        \n",
              "&lt;/script&gt;\n",
              "&lt;/html&gt;\" style=\"position:absolute;width:100%;height:100%;left:0;top:0;border:none !important;\" allowfullscreen webkitallowfullscreen mozallowfullscreen></iframe></div></div>"
            ]
          },
          "metadata": {},
          "execution_count": 21
        }
      ]
    },
    {
      "cell_type": "code",
      "source": [
        "x=fo.FeatureGroup(name=\"My Map\")\n",
        "x.add_child(fo.Marker(location=[27.1750,78.0422],\n",
        "                     popup=\"Tajmahal\",icon=fo.Icon(color=\"red\")))\n",
        "map.add_child(x)"
      ],
      "metadata": {
        "colab": {
          "base_uri": "https://localhost:8080/",
          "height": 712
        },
        "id": "gcbQ-pp7WNm_",
        "outputId": "2f0ab4e7-fc6f-4410-d502-c0335546183f"
      },
      "execution_count": 23,
      "outputs": [
        {
          "output_type": "execute_result",
          "data": {
            "text/plain": [
              "<folium.folium.Map at 0x7f503fe35df0>"
            ],
            "text/html": [
              "<div style=\"width:100%;\"><div style=\"position:relative;width:100%;height:0;padding-bottom:60%;\"><span style=\"color:#565656\">Make this Notebook Trusted to load map: File -> Trust Notebook</span><iframe srcdoc=\"&lt;!DOCTYPE html&gt;\n",
              "&lt;html&gt;\n",
              "&lt;head&gt;\n",
              "    \n",
              "    &lt;meta http-equiv=&quot;content-type&quot; content=&quot;text/html; charset=UTF-8&quot; /&gt;\n",
              "    \n",
              "        &lt;script&gt;\n",
              "            L_NO_TOUCH = false;\n",
              "            L_DISABLE_3D = false;\n",
              "        &lt;/script&gt;\n",
              "    \n",
              "    &lt;style&gt;html, body {width: 100%;height: 100%;margin: 0;padding: 0;}&lt;/style&gt;\n",
              "    &lt;style&gt;#map {position:absolute;top:0;bottom:0;right:0;left:0;}&lt;/style&gt;\n",
              "    &lt;script src=&quot;https://cdn.jsdelivr.net/npm/leaflet@1.6.0/dist/leaflet.js&quot;&gt;&lt;/script&gt;\n",
              "    &lt;script src=&quot;https://code.jquery.com/jquery-1.12.4.min.js&quot;&gt;&lt;/script&gt;\n",
              "    &lt;script src=&quot;https://maxcdn.bootstrapcdn.com/bootstrap/3.2.0/js/bootstrap.min.js&quot;&gt;&lt;/script&gt;\n",
              "    &lt;script src=&quot;https://cdnjs.cloudflare.com/ajax/libs/Leaflet.awesome-markers/2.0.2/leaflet.awesome-markers.js&quot;&gt;&lt;/script&gt;\n",
              "    &lt;link rel=&quot;stylesheet&quot; href=&quot;https://cdn.jsdelivr.net/npm/leaflet@1.6.0/dist/leaflet.css&quot;/&gt;\n",
              "    &lt;link rel=&quot;stylesheet&quot; href=&quot;https://maxcdn.bootstrapcdn.com/bootstrap/3.2.0/css/bootstrap.min.css&quot;/&gt;\n",
              "    &lt;link rel=&quot;stylesheet&quot; href=&quot;https://maxcdn.bootstrapcdn.com/bootstrap/3.2.0/css/bootstrap-theme.min.css&quot;/&gt;\n",
              "    &lt;link rel=&quot;stylesheet&quot; href=&quot;https://maxcdn.bootstrapcdn.com/font-awesome/4.6.3/css/font-awesome.min.css&quot;/&gt;\n",
              "    &lt;link rel=&quot;stylesheet&quot; href=&quot;https://cdnjs.cloudflare.com/ajax/libs/Leaflet.awesome-markers/2.0.2/leaflet.awesome-markers.css&quot;/&gt;\n",
              "    &lt;link rel=&quot;stylesheet&quot; href=&quot;https://cdn.jsdelivr.net/gh/python-visualization/folium/folium/templates/leaflet.awesome.rotate.min.css&quot;/&gt;\n",
              "    \n",
              "            &lt;meta name=&quot;viewport&quot; content=&quot;width=device-width,\n",
              "                initial-scale=1.0, maximum-scale=1.0, user-scalable=no&quot; /&gt;\n",
              "            &lt;style&gt;\n",
              "                #map_1f99c27f8cec7c996d196973ca0355ce {\n",
              "                    position: relative;\n",
              "                    width: 100.0%;\n",
              "                    height: 100.0%;\n",
              "                    left: 0.0%;\n",
              "                    top: 0.0%;\n",
              "                }\n",
              "            &lt;/style&gt;\n",
              "        \n",
              "&lt;/head&gt;\n",
              "&lt;body&gt;\n",
              "    \n",
              "    \n",
              "            &lt;div class=&quot;folium-map&quot; id=&quot;map_1f99c27f8cec7c996d196973ca0355ce&quot; &gt;&lt;/div&gt;\n",
              "        \n",
              "&lt;/body&gt;\n",
              "&lt;script&gt;\n",
              "    \n",
              "    \n",
              "            var map_1f99c27f8cec7c996d196973ca0355ce = L.map(\n",
              "                &quot;map_1f99c27f8cec7c996d196973ca0355ce&quot;,\n",
              "                {\n",
              "                    center: [0, 0],\n",
              "                    crs: L.CRS.EPSG3857,\n",
              "                    zoom: 1,\n",
              "                    zoomControl: true,\n",
              "                    preferCanvas: false,\n",
              "                }\n",
              "            );\n",
              "\n",
              "            \n",
              "\n",
              "        \n",
              "    \n",
              "            var tile_layer_08080e6db8415d6b90e259ea6294889d = L.tileLayer(\n",
              "                &quot;https://{s}.tile.openstreetmap.org/{z}/{x}/{y}.png&quot;,\n",
              "                {&quot;attribution&quot;: &quot;Data by \\u0026copy; \\u003ca href=\\&quot;http://openstreetmap.org\\&quot;\\u003eOpenStreetMap\\u003c/a\\u003e, under \\u003ca href=\\&quot;http://www.openstreetmap.org/copyright\\&quot;\\u003eODbL\\u003c/a\\u003e.&quot;, &quot;detectRetina&quot;: false, &quot;maxNativeZoom&quot;: 18, &quot;maxZoom&quot;: 18, &quot;minZoom&quot;: 0, &quot;noWrap&quot;: false, &quot;opacity&quot;: 1, &quot;subdomains&quot;: &quot;abc&quot;, &quot;tms&quot;: false}\n",
              "            ).addTo(map_1f99c27f8cec7c996d196973ca0355ce);\n",
              "        \n",
              "    \n",
              "            var feature_group_7df65fe7d8c00e56fd743aa3683fda67 = L.featureGroup(\n",
              "                {}\n",
              "            ).addTo(map_1f99c27f8cec7c996d196973ca0355ce);\n",
              "        \n",
              "    \n",
              "            var marker_6258d4bf4459b8a07ddbd682bf76cbc7 = L.marker(\n",
              "                [27.175, 78.0422],\n",
              "                {}\n",
              "            ).addTo(feature_group_7df65fe7d8c00e56fd743aa3683fda67);\n",
              "        \n",
              "    \n",
              "            var icon_ad252113cd4e55af481bc3e2343e4a9c = L.AwesomeMarkers.icon(\n",
              "                {&quot;extraClasses&quot;: &quot;fa-rotate-0&quot;, &quot;icon&quot;: &quot;info-sign&quot;, &quot;iconColor&quot;: &quot;white&quot;, &quot;markerColor&quot;: &quot;red&quot;, &quot;prefix&quot;: &quot;glyphicon&quot;}\n",
              "            );\n",
              "            marker_6258d4bf4459b8a07ddbd682bf76cbc7.setIcon(icon_ad252113cd4e55af481bc3e2343e4a9c);\n",
              "        \n",
              "    \n",
              "        var popup_32f4d4f2ba7c67dff9e4fe2c91ade366 = L.popup({&quot;maxWidth&quot;: &quot;100%&quot;});\n",
              "\n",
              "        \n",
              "            var html_a79dc28cc0e1c87e37245cf4e4f44616 = $(`&lt;div id=&quot;html_a79dc28cc0e1c87e37245cf4e4f44616&quot; style=&quot;width: 100.0%; height: 100.0%;&quot;&gt;Tajmahal&lt;/div&gt;`)[0];\n",
              "            popup_32f4d4f2ba7c67dff9e4fe2c91ade366.setContent(html_a79dc28cc0e1c87e37245cf4e4f44616);\n",
              "        \n",
              "\n",
              "        marker_6258d4bf4459b8a07ddbd682bf76cbc7.bindPopup(popup_32f4d4f2ba7c67dff9e4fe2c91ade366)\n",
              "        ;\n",
              "\n",
              "        \n",
              "    \n",
              "&lt;/script&gt;\n",
              "&lt;/html&gt;\" style=\"position:absolute;width:100%;height:100%;left:0;top:0;border:none !important;\" allowfullscreen webkitallowfullscreen mozallowfullscreen></iframe></div></div>"
            ]
          },
          "metadata": {},
          "execution_count": 23
        }
      ]
    },
    {
      "cell_type": "code",
      "source": [
        "for lat,lon in ([34,53],[24,-50],[90,-68]):\n",
        "        x.add_child(fo.Marker(location=[lat,lon],\n",
        "                     popup=\"Tajmahal\",icon=fo.Icon(color=\"red\")))\n",
        "map.add_child(x)"
      ],
      "metadata": {
        "colab": {
          "base_uri": "https://localhost:8080/",
          "height": 712
        },
        "id": "cUeezTiIWWZ4",
        "outputId": "998a01e3-0988-4c75-9cc3-af95604d9955"
      },
      "execution_count": 24,
      "outputs": [
        {
          "output_type": "execute_result",
          "data": {
            "text/plain": [
              "<folium.folium.Map at 0x7f503fe35df0>"
            ],
            "text/html": [
              "<div style=\"width:100%;\"><div style=\"position:relative;width:100%;height:0;padding-bottom:60%;\"><span style=\"color:#565656\">Make this Notebook Trusted to load map: File -> Trust Notebook</span><iframe srcdoc=\"&lt;!DOCTYPE html&gt;\n",
              "&lt;html&gt;\n",
              "&lt;head&gt;\n",
              "    \n",
              "    &lt;meta http-equiv=&quot;content-type&quot; content=&quot;text/html; charset=UTF-8&quot; /&gt;\n",
              "    \n",
              "        &lt;script&gt;\n",
              "            L_NO_TOUCH = false;\n",
              "            L_DISABLE_3D = false;\n",
              "        &lt;/script&gt;\n",
              "    \n",
              "    &lt;style&gt;html, body {width: 100%;height: 100%;margin: 0;padding: 0;}&lt;/style&gt;\n",
              "    &lt;style&gt;#map {position:absolute;top:0;bottom:0;right:0;left:0;}&lt;/style&gt;\n",
              "    &lt;script src=&quot;https://cdn.jsdelivr.net/npm/leaflet@1.6.0/dist/leaflet.js&quot;&gt;&lt;/script&gt;\n",
              "    &lt;script src=&quot;https://code.jquery.com/jquery-1.12.4.min.js&quot;&gt;&lt;/script&gt;\n",
              "    &lt;script src=&quot;https://maxcdn.bootstrapcdn.com/bootstrap/3.2.0/js/bootstrap.min.js&quot;&gt;&lt;/script&gt;\n",
              "    &lt;script src=&quot;https://cdnjs.cloudflare.com/ajax/libs/Leaflet.awesome-markers/2.0.2/leaflet.awesome-markers.js&quot;&gt;&lt;/script&gt;\n",
              "    &lt;link rel=&quot;stylesheet&quot; href=&quot;https://cdn.jsdelivr.net/npm/leaflet@1.6.0/dist/leaflet.css&quot;/&gt;\n",
              "    &lt;link rel=&quot;stylesheet&quot; href=&quot;https://maxcdn.bootstrapcdn.com/bootstrap/3.2.0/css/bootstrap.min.css&quot;/&gt;\n",
              "    &lt;link rel=&quot;stylesheet&quot; href=&quot;https://maxcdn.bootstrapcdn.com/bootstrap/3.2.0/css/bootstrap-theme.min.css&quot;/&gt;\n",
              "    &lt;link rel=&quot;stylesheet&quot; href=&quot;https://maxcdn.bootstrapcdn.com/font-awesome/4.6.3/css/font-awesome.min.css&quot;/&gt;\n",
              "    &lt;link rel=&quot;stylesheet&quot; href=&quot;https://cdnjs.cloudflare.com/ajax/libs/Leaflet.awesome-markers/2.0.2/leaflet.awesome-markers.css&quot;/&gt;\n",
              "    &lt;link rel=&quot;stylesheet&quot; href=&quot;https://cdn.jsdelivr.net/gh/python-visualization/folium/folium/templates/leaflet.awesome.rotate.min.css&quot;/&gt;\n",
              "    \n",
              "            &lt;meta name=&quot;viewport&quot; content=&quot;width=device-width,\n",
              "                initial-scale=1.0, maximum-scale=1.0, user-scalable=no&quot; /&gt;\n",
              "            &lt;style&gt;\n",
              "                #map_1f99c27f8cec7c996d196973ca0355ce {\n",
              "                    position: relative;\n",
              "                    width: 100.0%;\n",
              "                    height: 100.0%;\n",
              "                    left: 0.0%;\n",
              "                    top: 0.0%;\n",
              "                }\n",
              "            &lt;/style&gt;\n",
              "        \n",
              "&lt;/head&gt;\n",
              "&lt;body&gt;\n",
              "    \n",
              "    \n",
              "            &lt;div class=&quot;folium-map&quot; id=&quot;map_1f99c27f8cec7c996d196973ca0355ce&quot; &gt;&lt;/div&gt;\n",
              "        \n",
              "&lt;/body&gt;\n",
              "&lt;script&gt;\n",
              "    \n",
              "    \n",
              "            var map_1f99c27f8cec7c996d196973ca0355ce = L.map(\n",
              "                &quot;map_1f99c27f8cec7c996d196973ca0355ce&quot;,\n",
              "                {\n",
              "                    center: [0, 0],\n",
              "                    crs: L.CRS.EPSG3857,\n",
              "                    zoom: 1,\n",
              "                    zoomControl: true,\n",
              "                    preferCanvas: false,\n",
              "                }\n",
              "            );\n",
              "\n",
              "            \n",
              "\n",
              "        \n",
              "    \n",
              "            var tile_layer_08080e6db8415d6b90e259ea6294889d = L.tileLayer(\n",
              "                &quot;https://{s}.tile.openstreetmap.org/{z}/{x}/{y}.png&quot;,\n",
              "                {&quot;attribution&quot;: &quot;Data by \\u0026copy; \\u003ca href=\\&quot;http://openstreetmap.org\\&quot;\\u003eOpenStreetMap\\u003c/a\\u003e, under \\u003ca href=\\&quot;http://www.openstreetmap.org/copyright\\&quot;\\u003eODbL\\u003c/a\\u003e.&quot;, &quot;detectRetina&quot;: false, &quot;maxNativeZoom&quot;: 18, &quot;maxZoom&quot;: 18, &quot;minZoom&quot;: 0, &quot;noWrap&quot;: false, &quot;opacity&quot;: 1, &quot;subdomains&quot;: &quot;abc&quot;, &quot;tms&quot;: false}\n",
              "            ).addTo(map_1f99c27f8cec7c996d196973ca0355ce);\n",
              "        \n",
              "    \n",
              "            var feature_group_7df65fe7d8c00e56fd743aa3683fda67 = L.featureGroup(\n",
              "                {}\n",
              "            ).addTo(map_1f99c27f8cec7c996d196973ca0355ce);\n",
              "        \n",
              "    \n",
              "            var marker_6258d4bf4459b8a07ddbd682bf76cbc7 = L.marker(\n",
              "                [27.175, 78.0422],\n",
              "                {}\n",
              "            ).addTo(feature_group_7df65fe7d8c00e56fd743aa3683fda67);\n",
              "        \n",
              "    \n",
              "            var icon_ad252113cd4e55af481bc3e2343e4a9c = L.AwesomeMarkers.icon(\n",
              "                {&quot;extraClasses&quot;: &quot;fa-rotate-0&quot;, &quot;icon&quot;: &quot;info-sign&quot;, &quot;iconColor&quot;: &quot;white&quot;, &quot;markerColor&quot;: &quot;red&quot;, &quot;prefix&quot;: &quot;glyphicon&quot;}\n",
              "            );\n",
              "            marker_6258d4bf4459b8a07ddbd682bf76cbc7.setIcon(icon_ad252113cd4e55af481bc3e2343e4a9c);\n",
              "        \n",
              "    \n",
              "        var popup_32f4d4f2ba7c67dff9e4fe2c91ade366 = L.popup({&quot;maxWidth&quot;: &quot;100%&quot;});\n",
              "\n",
              "        \n",
              "            var html_a79dc28cc0e1c87e37245cf4e4f44616 = $(`&lt;div id=&quot;html_a79dc28cc0e1c87e37245cf4e4f44616&quot; style=&quot;width: 100.0%; height: 100.0%;&quot;&gt;Tajmahal&lt;/div&gt;`)[0];\n",
              "            popup_32f4d4f2ba7c67dff9e4fe2c91ade366.setContent(html_a79dc28cc0e1c87e37245cf4e4f44616);\n",
              "        \n",
              "\n",
              "        marker_6258d4bf4459b8a07ddbd682bf76cbc7.bindPopup(popup_32f4d4f2ba7c67dff9e4fe2c91ade366)\n",
              "        ;\n",
              "\n",
              "        \n",
              "    \n",
              "    \n",
              "            var marker_9f87c6dbaecd50220a10c515da90797d = L.marker(\n",
              "                [34.0, 53.0],\n",
              "                {}\n",
              "            ).addTo(feature_group_7df65fe7d8c00e56fd743aa3683fda67);\n",
              "        \n",
              "    \n",
              "            var icon_782953842a163ef6ce73ef0afe4f14a4 = L.AwesomeMarkers.icon(\n",
              "                {&quot;extraClasses&quot;: &quot;fa-rotate-0&quot;, &quot;icon&quot;: &quot;info-sign&quot;, &quot;iconColor&quot;: &quot;white&quot;, &quot;markerColor&quot;: &quot;red&quot;, &quot;prefix&quot;: &quot;glyphicon&quot;}\n",
              "            );\n",
              "            marker_9f87c6dbaecd50220a10c515da90797d.setIcon(icon_782953842a163ef6ce73ef0afe4f14a4);\n",
              "        \n",
              "    \n",
              "        var popup_3a0110fc78cd38e5fc5a4d3b7c8d17d1 = L.popup({&quot;maxWidth&quot;: &quot;100%&quot;});\n",
              "\n",
              "        \n",
              "            var html_d975060f393c3d77266992a47a4ee107 = $(`&lt;div id=&quot;html_d975060f393c3d77266992a47a4ee107&quot; style=&quot;width: 100.0%; height: 100.0%;&quot;&gt;Tajmahal&lt;/div&gt;`)[0];\n",
              "            popup_3a0110fc78cd38e5fc5a4d3b7c8d17d1.setContent(html_d975060f393c3d77266992a47a4ee107);\n",
              "        \n",
              "\n",
              "        marker_9f87c6dbaecd50220a10c515da90797d.bindPopup(popup_3a0110fc78cd38e5fc5a4d3b7c8d17d1)\n",
              "        ;\n",
              "\n",
              "        \n",
              "    \n",
              "    \n",
              "            var marker_a18973fa4d1b32d067a9a2dc9835932a = L.marker(\n",
              "                [24.0, -50.0],\n",
              "                {}\n",
              "            ).addTo(feature_group_7df65fe7d8c00e56fd743aa3683fda67);\n",
              "        \n",
              "    \n",
              "            var icon_65bcd8ea44e8cbc77dea96154a7418bf = L.AwesomeMarkers.icon(\n",
              "                {&quot;extraClasses&quot;: &quot;fa-rotate-0&quot;, &quot;icon&quot;: &quot;info-sign&quot;, &quot;iconColor&quot;: &quot;white&quot;, &quot;markerColor&quot;: &quot;red&quot;, &quot;prefix&quot;: &quot;glyphicon&quot;}\n",
              "            );\n",
              "            marker_a18973fa4d1b32d067a9a2dc9835932a.setIcon(icon_65bcd8ea44e8cbc77dea96154a7418bf);\n",
              "        \n",
              "    \n",
              "        var popup_cc38bb3524d934c32ce72b4a91b5f5b7 = L.popup({&quot;maxWidth&quot;: &quot;100%&quot;});\n",
              "\n",
              "        \n",
              "            var html_a3cb3a8efcc6e63d8875163501152953 = $(`&lt;div id=&quot;html_a3cb3a8efcc6e63d8875163501152953&quot; style=&quot;width: 100.0%; height: 100.0%;&quot;&gt;Tajmahal&lt;/div&gt;`)[0];\n",
              "            popup_cc38bb3524d934c32ce72b4a91b5f5b7.setContent(html_a3cb3a8efcc6e63d8875163501152953);\n",
              "        \n",
              "\n",
              "        marker_a18973fa4d1b32d067a9a2dc9835932a.bindPopup(popup_cc38bb3524d934c32ce72b4a91b5f5b7)\n",
              "        ;\n",
              "\n",
              "        \n",
              "    \n",
              "    \n",
              "            var marker_3d32ccdfac26cb8be711c2cef7ab1658 = L.marker(\n",
              "                [90.0, -68.0],\n",
              "                {}\n",
              "            ).addTo(feature_group_7df65fe7d8c00e56fd743aa3683fda67);\n",
              "        \n",
              "    \n",
              "            var icon_e543740a6e4771a6db5b68c6bb7593ee = L.AwesomeMarkers.icon(\n",
              "                {&quot;extraClasses&quot;: &quot;fa-rotate-0&quot;, &quot;icon&quot;: &quot;info-sign&quot;, &quot;iconColor&quot;: &quot;white&quot;, &quot;markerColor&quot;: &quot;red&quot;, &quot;prefix&quot;: &quot;glyphicon&quot;}\n",
              "            );\n",
              "            marker_3d32ccdfac26cb8be711c2cef7ab1658.setIcon(icon_e543740a6e4771a6db5b68c6bb7593ee);\n",
              "        \n",
              "    \n",
              "        var popup_1a3e34a8e53fb12654940a92caa46849 = L.popup({&quot;maxWidth&quot;: &quot;100%&quot;});\n",
              "\n",
              "        \n",
              "            var html_cac353f5f00a85360d55ecbccc1ad79c = $(`&lt;div id=&quot;html_cac353f5f00a85360d55ecbccc1ad79c&quot; style=&quot;width: 100.0%; height: 100.0%;&quot;&gt;Tajmahal&lt;/div&gt;`)[0];\n",
              "            popup_1a3e34a8e53fb12654940a92caa46849.setContent(html_cac353f5f00a85360d55ecbccc1ad79c);\n",
              "        \n",
              "\n",
              "        marker_3d32ccdfac26cb8be711c2cef7ab1658.bindPopup(popup_1a3e34a8e53fb12654940a92caa46849)\n",
              "        ;\n",
              "\n",
              "        \n",
              "    \n",
              "&lt;/script&gt;\n",
              "&lt;/html&gt;\" style=\"position:absolute;width:100%;height:100%;left:0;top:0;border:none !important;\" allowfullscreen webkitallowfullscreen mozallowfullscreen></iframe></div></div>"
            ]
          },
          "metadata": {},
          "execution_count": 24
        }
      ]
    },
    {
      "cell_type": "markdown",
      "source": [
        "**PATTERNS BY AMUL'S ACADEMY**"
      ],
      "metadata": {
        "id": "sEWMbQ5UWZD6"
      }
    },
    {
      "cell_type": "code",
      "source": [
        "n=int(input(\"enter the no of rows:\"))\n",
        "for i in range(1,n+1):\n",
        "    for j in range(1,i+1):\n",
        "        print(\"*\",end=\" \")\n",
        "    print(\"\\n\")"
      ],
      "metadata": {
        "colab": {
          "base_uri": "https://localhost:8080/"
        },
        "id": "G18m6gzUWbjc",
        "outputId": "3a224892-6d07-48ea-dcd9-335375d39ed8"
      },
      "execution_count": 25,
      "outputs": [
        {
          "output_type": "stream",
          "name": "stdout",
          "text": [
            "enter the no of rows:6\n",
            "* \n",
            "\n",
            "* * \n",
            "\n",
            "* * * \n",
            "\n",
            "* * * * \n",
            "\n",
            "* * * * * \n",
            "\n",
            "* * * * * * \n",
            "\n"
          ]
        }
      ]
    },
    {
      "cell_type": "code",
      "source": [
        "num=int(input(\"enter the number:\"))\n",
        "k=1\n",
        "for i in range(1,num+1):\n",
        "    for j in range(1,k+1):\n",
        "        print(\"*\",end=\" \")\n",
        "    k=k+2\n",
        "    print()"
      ],
      "metadata": {
        "colab": {
          "base_uri": "https://localhost:8080/"
        },
        "id": "Lx4dBTinWeQz",
        "outputId": "ee75f3ce-ed5f-4c89-d9c6-142e0468bd2d"
      },
      "execution_count": 26,
      "outputs": [
        {
          "output_type": "stream",
          "name": "stdout",
          "text": [
            "enter the number:6\n",
            "* \n",
            "* * * \n",
            "* * * * * \n",
            "* * * * * * * \n",
            "* * * * * * * * * \n",
            "* * * * * * * * * * * \n"
          ]
        }
      ]
    },
    {
      "cell_type": "code",
      "source": [
        "n=int(input(\"enter the number of rows\"))\n",
        "for i in range(1,n+1):\n",
        "    for j in range(1,i+1):\n",
        "        print(j,end=\" \")\n",
        "    print()"
      ],
      "metadata": {
        "colab": {
          "base_uri": "https://localhost:8080/"
        },
        "id": "t7_uL3QoWknU",
        "outputId": "26e28840-b57e-496c-cffb-d7a9fa83358c"
      },
      "execution_count": 27,
      "outputs": [
        {
          "output_type": "stream",
          "name": "stdout",
          "text": [
            "enter the number of rows6\n",
            "1 \n",
            "1 2 \n",
            "1 2 3 \n",
            "1 2 3 4 \n",
            "1 2 3 4 5 \n",
            "1 2 3 4 5 6 \n"
          ]
        }
      ]
    },
    {
      "cell_type": "code",
      "source": [
        "n=int(input(\"enter the number of rows:\"))\n",
        "for i in range(1,n+1):\n",
        "    for j in range(1,i+1):\n",
        "        print(i,end=\" \")\n",
        "    print()"
      ],
      "metadata": {
        "colab": {
          "base_uri": "https://localhost:8080/"
        },
        "id": "El1oA_x5Wnrb",
        "outputId": "eb40fa21-4e09-409f-aec4-9c6494b21757"
      },
      "execution_count": 28,
      "outputs": [
        {
          "output_type": "stream",
          "name": "stdout",
          "text": [
            "enter the number of rows:6\n",
            "1 \n",
            "2 2 \n",
            "3 3 3 \n",
            "4 4 4 4 \n",
            "5 5 5 5 5 \n",
            "6 6 6 6 6 6 \n"
          ]
        }
      ]
    }
  ]
}